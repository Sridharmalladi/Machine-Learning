{
 "cells": [
  {
   "cell_type": "markdown",
   "id": "a7c5fc60-fe46-4f26-8e7f-c4162ccdd649",
   "metadata": {},
   "source": [
    "# Loan Eligibility Prediction"
   ]
  },
  {
   "cell_type": "markdown",
   "id": "d73c97e2-35d1-4b88-a0a9-4dad4791836c",
   "metadata": {},
   "source": [
    "## Importing the libraries"
   ]
  },
  {
   "cell_type": "code",
   "execution_count": 1,
   "id": "0bc39652-92bf-4e80-9c48-92c79eabbfc7",
   "metadata": {
    "tags": []
   },
   "outputs": [],
   "source": [
    "# required libraries\n",
    "import pandas as pd\n",
    "from sklearn.linear_model import LogisticRegression\n",
    "from sklearn.model_selection import train_test_split\n",
    "from sklearn.preprocessing import LabelEncoder\n",
    "from sklearn.metrics import accuracy_score"
   ]
  },
  {
   "cell_type": "code",
   "execution_count": 2,
   "id": "7458a2fe-1b1b-44de-8cb0-dc252c3249da",
   "metadata": {
    "tags": []
   },
   "outputs": [
    {
     "name": "stdout",
     "output_type": "stream",
     "text": [
      "    Loan_ID Gender Married Dependents     Education Self_Employed  \\\n",
      "0  LP001002   Male      No          0      Graduate            No   \n",
      "1  LP001003   Male     Yes          1      Graduate            No   \n",
      "2  LP001005   Male     Yes          0      Graduate           Yes   \n",
      "3  LP001006   Male     Yes          0  Not Graduate            No   \n",
      "4  LP001008   Male      No          0      Graduate            No   \n",
      "\n",
      "   ApplicantIncome  CoapplicantIncome  LoanAmount  Loan_Amount_Term  \\\n",
      "0             5849                0.0         NaN             360.0   \n",
      "1             4583             1508.0       128.0             360.0   \n",
      "2             3000                0.0        66.0             360.0   \n",
      "3             2583             2358.0       120.0             360.0   \n",
      "4             6000                0.0       141.0             360.0   \n",
      "\n",
      "   Credit_History Property_Area Loan_Status  \n",
      "0             1.0         Urban           Y  \n",
      "1             1.0         Rural           N  \n",
      "2             1.0         Urban           Y  \n",
      "3             1.0         Urban           Y  \n",
      "4             1.0         Urban           Y  \n"
     ]
    }
   ],
   "source": [
    "# read the dataset\n",
    "data = pd.read_csv('loan.csv')\n",
    "print(data.head())"
   ]
  },
  {
   "cell_type": "code",
   "execution_count": 3,
   "id": "4a854f76-0631-4dba-b026-f30b198788e5",
   "metadata": {
    "tags": []
   },
   "outputs": [
    {
     "name": "stdout",
     "output_type": "stream",
     "text": [
      "\n",
      "\n",
      "Column Names\n",
      "\n",
      "\n",
      "Index(['Loan_ID', 'Gender', 'Married', 'Dependents', 'Education',\n",
      "       'Self_Employed', 'ApplicantIncome', 'CoapplicantIncome', 'LoanAmount',\n",
      "       'Loan_Amount_Term', 'Credit_History', 'Property_Area', 'Loan_Status'],\n",
      "      dtype='object')\n"
     ]
    }
   ],
   "source": [
    "print('\\n\\nColumn Names\\n\\n')\n",
    "print(data.columns)"
   ]
  },
  {
   "cell_type": "code",
   "execution_count": 4,
   "id": "7d10cfbc-6d1c-468e-aa1d-6fe2f73ded67",
   "metadata": {
    "tags": []
   },
   "outputs": [],
   "source": [
    "#label encode the target variable\n",
    "encode = LabelEncoder()\n",
    "data.Loan_Status = encode.fit_transform(data.Loan_Status)"
   ]
  },
  {
   "cell_type": "code",
   "execution_count": 5,
   "id": "1ff990b5-f2e5-4efa-a25f-96da0dff7d70",
   "metadata": {
    "tags": []
   },
   "outputs": [],
   "source": [
    "# drop the null values\n",
    "data.dropna(how='any',inplace=True)"
   ]
  },
  {
   "cell_type": "code",
   "execution_count": 6,
   "id": "74e35070-f395-46f1-9117-bf7b0dc5b97e",
   "metadata": {
    "tags": []
   },
   "outputs": [],
   "source": [
    "# train-test-split   \n",
    "train , test = train_test_split(data,test_size=0.2,random_state=0)"
   ]
  },
  {
   "cell_type": "code",
   "execution_count": 7,
   "id": "554099de-35ba-4b9a-a321-7404427595f5",
   "metadata": {
    "tags": []
   },
   "outputs": [],
   "source": [
    "# seperate the target and independent variable\n",
    "train_x = train.drop(columns=['Loan_ID','Loan_Status'],axis=1)\n",
    "train_y = train['Loan_Status']"
   ]
  },
  {
   "cell_type": "code",
   "execution_count": 8,
   "id": "f2c55f49-b162-45ee-a7bd-724793744267",
   "metadata": {
    "tags": []
   },
   "outputs": [],
   "source": [
    "test_x = test.drop(columns=['Loan_ID','Loan_Status'],axis=1)\n",
    "test_y = test['Loan_Status']"
   ]
  },
  {
   "cell_type": "code",
   "execution_count": 9,
   "id": "0641389c-f151-41e7-a70b-95bcfe3579a2",
   "metadata": {
    "tags": []
   },
   "outputs": [],
   "source": [
    "# encode the data\n",
    "train_x = pd.get_dummies(train_x)\n",
    "test_x  = pd.get_dummies(test_x)"
   ]
  },
  {
   "cell_type": "code",
   "execution_count": 10,
   "id": "05b6fe07-ca40-4ede-8e15-47f1e62a46bc",
   "metadata": {
    "tags": []
   },
   "outputs": [
    {
     "name": "stdout",
     "output_type": "stream",
     "text": [
      "shape of training data :  (384, 20)\n",
      "shape of testing data :  (96, 20)\n"
     ]
    }
   ],
   "source": [
    "print('shape of training data : ',train_x.shape)\n",
    "print('shape of testing data : ',test_x.shape)"
   ]
  },
  {
   "cell_type": "code",
   "execution_count": 12,
   "id": "db7471f7-3b70-48f9-9a66-3bbca47a863f",
   "metadata": {
    "tags": []
   },
   "outputs": [
    {
     "name": "stdout",
     "output_type": "stream",
     "text": [
      "Predicted Values on Test Data [1 1 1 1 1 1 1 1 1 1 1 1 0 1 1 1 1 1 0 1 1 1 1 1 0 1 1 1 1 1 1 1 1 1 1 1 1\n",
      " 1 1 0 1 1 1 1 1 1 1 1 1 1 1 1 1 1 1 1 0 0 0 0 1 1 1 1 1 1 1 1 1 1 1 1 1 1\n",
      " 1 1 1 1 1 1 1 1 1 0 1 1 0 1 1 0 1 0 0 1 1 1]\n"
     ]
    },
    {
     "name": "stderr",
     "output_type": "stream",
     "text": [
      "/Users/sridharmalladi/anaconda3/lib/python3.11/site-packages/sklearn/linear_model/_logistic.py:460: ConvergenceWarning: lbfgs failed to converge (status=1):\n",
      "STOP: TOTAL NO. of ITERATIONS REACHED LIMIT.\n",
      "\n",
      "Increase the number of iterations (max_iter) or scale the data as shown in:\n",
      "    https://scikit-learn.org/stable/modules/preprocessing.html\n",
      "Please also refer to the documentation for alternative solver options:\n",
      "    https://scikit-learn.org/stable/modules/linear_model.html#logistic-regression\n",
      "  n_iter_i = _check_optimize_result(\n"
     ]
    }
   ],
   "source": [
    "# create the object of the model\n",
    "model = LogisticRegression()\n",
    "model.fit(train_x,train_y)\n",
    "\n",
    "predict = model.predict(test_x)\n",
    "\n",
    "print('Predicted Values on Test Data',predict)"
   ]
  },
  {
   "cell_type": "code",
   "execution_count": 13,
   "id": "0f9e682f-9aa8-4b19-8e19-06a51ff77f75",
   "metadata": {
    "tags": []
   },
   "outputs": [
    {
     "name": "stdout",
     "output_type": "stream",
     "text": [
      "\n",
      "\n",
      "Accuracy Score on test data : \n",
      "\n",
      "\n",
      "0.7291666666666666\n"
     ]
    }
   ],
   "source": [
    "print('\\n\\nAccuracy Score on test data : \\n\\n')\n",
    "print(accuracy_score(test_y,predict))"
   ]
  },
  {
   "cell_type": "code",
   "execution_count": null,
   "id": "3ef683e8-1d2a-4142-a22e-b2e607bcc3d5",
   "metadata": {},
   "outputs": [],
   "source": []
  }
 ],
 "metadata": {
  "kernelspec": {
   "display_name": "Python 3 (ipykernel)",
   "language": "python",
   "name": "python3"
  },
  "language_info": {
   "codemirror_mode": {
    "name": "ipython",
    "version": 3
   },
   "file_extension": ".py",
   "mimetype": "text/x-python",
   "name": "python",
   "nbconvert_exporter": "python",
   "pygments_lexer": "ipython3",
   "version": "3.11.5"
  }
 },
 "nbformat": 4,
 "nbformat_minor": 5
}
